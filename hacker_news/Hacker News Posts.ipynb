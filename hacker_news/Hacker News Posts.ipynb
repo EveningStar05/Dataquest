{
 "cells": [
  {
   "cell_type": "markdown",
   "metadata": {},
   "source": [
    "# Introduction"
   ]
  },
  {
   "cell_type": "markdown",
   "metadata": {},
   "source": [
    "In this notebook we'll be working with a dataset of submissions from a popular website: [Hacker News](https://news.ycombinator.com/)\n",
    "\n",
    "Hacker News is a website that is similar to Reddit, where users can submit stories and receive votes and comments. Created by the startup incubator [Y Combinator](https://www.ycombinator.com/), is popular among startup circles and technology. Posts that can make it to the top of the Hacker News listings can get hundreds of thousands of visitors as a result."
   ]
  },
  {
   "cell_type": "markdown",
   "metadata": {},
   "source": [
    "# About the Dataset"
   ]
  },
  {
   "cell_type": "markdown",
   "metadata": {},
   "source": [
    "We have reduced the number of rows from almost 300,000 to approximately 20,000 rows by removing all submissions that didn't receive any comments and then randomly sampling form the remaining submissions.\n",
    "\n",
    "You can find the dataset [here](https://www.kaggle.com/datasets/hacker-news/hacker-news-posts). Below are the datasets column description.\n",
    "\n",
    " - id : unique identifier.\n",
    " - title : title of the post.\n",
    " - url : the url of the item being linked to, if the post has url.\n",
    " - num_points : number of upvotes.\n",
    " - num_comments : number of comments.\n",
    " - author : the name of the account that created the post.\n",
    " - created_at : date and time post being created.\n",
    " \n",
    "We are interested in posts with titles that begin with either `Ask HN` or `Show HN`. We will compare these two types of posts to determine the following:\n",
    " - Do `Ask HN` or `Show HN` receive more comments on average?\n",
    " - Do posts created at a certain time receive more comments on average?"
   ]
  },
  {
   "cell_type": "code",
   "execution_count": 1,
   "metadata": {},
   "outputs": [],
   "source": [
    "# importing packages\n",
    "from csv import reader\n",
    "import datetime as dt\n",
    "\n",
    "# loading the dataset\n",
    "hn = list(reader(open(\"hacker_news.csv\")))"
   ]
  },
  {
   "cell_type": "code",
   "execution_count": 2,
   "metadata": {},
   "outputs": [
    {
     "name": "stdout",
     "output_type": "stream",
     "text": [
      "Example of Ask HN: \n",
      "Ask HN: How to improve my personal website?\n",
      "Ask HN: Am I the only one outraged by Twitter shutting down share counts?\n",
      "Ask HN: Aby recent changes to CSS that broke mobile?\n",
      "Ask HN: Looking for Employee #3 How do I do it?\n",
      "Ask HN: Someone offered to buy my browser extension from me. What now?\n",
      "Ask HN: Limiting CPU, memory, and I/O usage on a program for testing\n",
      "Ask HN: Which framework for a CRUD app in 2016?\n",
      "Ask HN: Enter market with a well-funded competitor?\n",
      "Ask HN: Do you use any realtime PaaS/framework and in case you so which one?\n"
     ]
    }
   ],
   "source": [
    "print(\"Example of Ask HN: \")\n",
    "for x in hn[:100]:\n",
    "    if \"Ask HN\" in x[1]:\n",
    "        print(x[1])"
   ]
  },
  {
   "cell_type": "code",
   "execution_count": 3,
   "metadata": {},
   "outputs": [
    {
     "name": "stdout",
     "output_type": "stream",
     "text": [
      "Example of show HN: \n",
      "Show HN: Wio Link  ESP8266 Based Web of Things Hardware Development Platform\n",
      "Show HN: Something pointless I made\n",
      "Show HN: Shanhu.io, a programming playground powered by e8vm\n",
      "Show HN: Webscope  Easy way for web developers to communicate with Clients\n",
      "Show HN: GeoScreenshot  Easily test Geo-IP based web pages\n"
     ]
    }
   ],
   "source": [
    "print(\"Example of show HN: \")\n",
    "for x in hn[:100]:\n",
    "    if \"Show HN\" in x[1]:\n",
    "        print(x[1])"
   ]
  },
  {
   "cell_type": "code",
   "execution_count": 4,
   "metadata": {},
   "outputs": [
    {
     "name": "stdout",
     "output_type": "stream",
     "text": [
      "First five rows of the dataset: \n",
      "[['12224879', 'Interactive Dynamic Video', 'http://www.interactivedynamicvideo.com/', '386', '52', 'ne0phyte', '8/4/2016 11:52'], ['10975351', 'How to Use Open Source and Shut the Fuck Up at the Same Time', 'http://hueniverse.com/2016/01/26/how-to-use-open-source-and-shut-the-fuck-up-at-the-same-time/', '39', '10', 'josep2', '1/26/2016 19:30'], ['11964716', \"Florida DJs May Face Felony for April Fools' Water Joke\", 'http://www.thewire.com/entertainment/2013/04/florida-djs-april-fools-water-joke/63798/', '2', '1', 'vezycash', '6/23/2016 22:20'], ['11919867', 'Technology ventures: From Idea to Enterprise', 'https://www.amazon.com/Technology-Ventures-Enterprise-Thomas-Byers/dp/0073523429', '3', '1', 'hswarna', '6/17/2016 0:01']]\n",
      "==================================================\n",
      "\n",
      "\n",
      "Header/columns: \n",
      "['id', 'title', 'url', 'num_points', 'num_comments', 'author', 'created_at']\n"
     ]
    }
   ],
   "source": [
    "print(\"First five rows of the dataset: \")\n",
    "print(hn[1:5])\n",
    "\n",
    "print(\"=\" * 50)\n",
    "print(\"\\n\")\n",
    "print(\"Header/columns: \")\n",
    "print(hn[0])"
   ]
  },
  {
   "cell_type": "markdown",
   "metadata": {},
   "source": [
    "## Filter Posts"
   ]
  },
  {
   "cell_type": "code",
   "execution_count": 5,
   "metadata": {},
   "outputs": [],
   "source": [
    "header = hn[0]\n",
    "hn = hn[1:] # skipping/removing the header"
   ]
  },
  {
   "cell_type": "markdown",
   "metadata": {},
   "source": [
    "Since we are only interested in `Ask HN` and `Show HN` we need to filter them out. To start let's create an empty list:\n",
    " - `ask_posts` : which will contain all `Ask HN` posts.\n",
    " - `show_posts` : will contain all `Show HN` posts.\n",
    " - `other_posts` : will contain all other posts."
   ]
  },
  {
   "cell_type": "code",
   "execution_count": 6,
   "metadata": {},
   "outputs": [
    {
     "name": "stdout",
     "output_type": "stream",
     "text": [
      "Number of rows for ask_posts:  1744\n",
      "Number of rows for show_posts:  1162\n",
      "Number of rows for other_posts:  17194\n"
     ]
    }
   ],
   "source": [
    "ask_posts = []\n",
    "show_posts = []\n",
    "other_posts = []\n",
    "\n",
    "for row in hn:\n",
    "    title = row[1]\n",
    "    if title.lower().startswith(\"ask hn\"):\n",
    "        ask_posts.append(row)\n",
    "    elif title.lower().startswith(\"show hn\"):\n",
    "        show_posts.append(row)\n",
    "    else:\n",
    "        other_posts.append(row)\n",
    "        \n",
    "print(\"Number of rows for ask_posts: \", len(ask_posts))\n",
    "print(\"Number of rows for show_posts: \", len(show_posts))\n",
    "print(\"Number of rows for other_posts: \", len(other_posts))"
   ]
  },
  {
   "cell_type": "markdown",
   "metadata": {},
   "source": [
    "## Calculate the average of each filtered posts"
   ]
  },
  {
   "cell_type": "code",
   "execution_count": 7,
   "metadata": {},
   "outputs": [
    {
     "name": "stdout",
     "output_type": "stream",
     "text": [
      "Average of asks_post:  14.038417431192661\n",
      "Average of show_comments:  10.31669535283993\n"
     ]
    }
   ],
   "source": [
    "def find_total(data, index):\n",
    "    total = 0\n",
    "\n",
    "    for rows in data:\n",
    "        total += int(rows[index])\n",
    "    return total\n",
    "\n",
    "total_ask_comments = find_total(ask_posts, 4)\n",
    "total_show_comments = find_total(show_posts, 4)\n",
    "\n",
    "avg_ask_comments = total_ask_comments / len(ask_posts)\n",
    "avg_show_comments = total_show_comments / len(show_posts)\n",
    "\n",
    "print(\"Average of asks_post: \", avg_ask_comments)\n",
    "print(\"Average of show_comments: \", avg_show_comments)"
   ]
  },
  {
   "cell_type": "markdown",
   "metadata": {},
   "source": [
    "Based on the average `ask_posts` has higher average than `show_posts` which means that there are more comments in the question related posts than `Show HN`.\n",
    "\n",
    "Since `ask_posts` received more comments than `show_posts` let's determine wether if `ask_posts` created at a certain time attracts more comments or not. To do that we'll create a list of lists which contains `created_at` and number of comments for each post. Then we can calculate the number of ask posts created on each hour of the day and calculate the average number of comments received per hour."
   ]
  },
  {
   "cell_type": "code",
   "execution_count": 8,
   "metadata": {},
   "outputs": [
    {
     "name": "stdout",
     "output_type": "stream",
     "text": [
      "Example of result_list:\n",
      " [['8/16/2016 9:55', 6], ['11/22/2015 13:43', 29], ['5/2/2016 10:14', 1], ['8/2/2016 14:20', 3], ['10/15/2015 16:38', 17]]\n",
      "==================================================\n"
     ]
    }
   ],
   "source": [
    "result_list = []\n",
    "\n",
    "for rows in ask_posts:\n",
    "    created_at = rows[6] # date and time of creation\n",
    "    num_comments = int(rows[4]) # number of comments in the ask posts\n",
    "    result_list.append([created_at, num_comments])\n",
    "print(\"Example of result_list:\\n\", result_list[:5])\n",
    "print(\"=\" * 50)"
   ]
  },
  {
   "cell_type": "code",
   "execution_count": 9,
   "metadata": {},
   "outputs": [
    {
     "name": "stdout",
     "output_type": "stream",
     "text": [
      "{'09': 251, '13': 1253, '10': 793, '14': 1416, '16': 1814, '23': 543, '12': 687, '17': 1146, '15': 4477, '21': 1745, '20': 1722, '02': 1381, '18': 1439, '03': 421, '05': 464, '19': 1188, '01': 683, '22': 479, '08': 492, '04': 337, '00': 447, '06': 397, '07': 267, '11': 641}\n"
     ]
    }
   ],
   "source": [
    "counts_by_hour = {}\n",
    "comments_by_hour = {}\n",
    "\n",
    "for data in result_list:\n",
    "    dt_string = data[0] # mm/dd/yyy \n",
    "    date_time_object = dt.datetime.strptime(dt_string, \"%m/%d/%Y %H:%M\") # converting to date time object\n",
    "    time = date_time_object.strftime(\"%H\") # extract the hour\n",
    "    \n",
    "    if not time in counts_by_hour:\n",
    "        counts_by_hour[time] = 1\n",
    "        comments_by_hour[time] = data[1]\n",
    "    else:\n",
    "        counts_by_hour[time] += 1\n",
    "        comments_by_hour[time] += data[1]\n",
    "print(comments_by_hour)"
   ]
  },
  {
   "cell_type": "markdown",
   "metadata": {},
   "source": [
    "The two empty dictionaries contains the following:\n",
    "- `counts_by_hour`: contains the number of ask posts created during each hour of the day.\n",
    "- `comments_by_hour` : contains the number of comments in ask posts created at each hour.\n",
    "\n",
    "Then let's use these two dictionaries to calculate the average number of comments for posts created during each hour of the day."
   ]
  },
  {
   "cell_type": "code",
   "execution_count": 10,
   "metadata": {},
   "outputs": [
    {
     "name": "stdout",
     "output_type": "stream",
     "text": [
      "Average by hour:\n",
      " [['09', 5.5777777777777775], ['13', 14.741176470588234], ['10', 13.440677966101696], ['14', 13.233644859813085], ['16', 16.796296296296298], ['23', 7.985294117647059], ['12', 9.41095890410959], ['17', 11.46], ['15', 38.5948275862069], ['21', 16.009174311926607]]\n"
     ]
    }
   ],
   "source": [
    "avg_by_hour = []\n",
    "\n",
    "# calculate the average number of comments per post for posts created during each hour of the day.\n",
    "for hour in comments_by_hour:\n",
    "    avg_by_hour.append([hour, comments_by_hour[hour] / counts_by_hour[hour]])\n",
    "print(\"Average by hour:\\n\", avg_by_hour[:10])"
   ]
  },
  {
   "cell_type": "markdown",
   "metadata": {},
   "source": [
    "For the sake of readablity and to determine which hour has the highest value let's sort the `avg_by_hour` list, by ascedning order."
   ]
  },
  {
   "cell_type": "code",
   "execution_count": 11,
   "metadata": {},
   "outputs": [
    {
     "name": "stdout",
     "output_type": "stream",
     "text": [
      "Top 5 Hours for Ask Posts Comments:\n",
      "\n",
      "==================================================\n",
      "15:00: 38.59 average comments per post.\n",
      "02:00: 23.81 average comments per post.\n",
      "20:00: 21.52 average comments per post.\n",
      "16:00: 16.80 average comments per post.\n",
      "21:00: 16.01 average comments per post.\n"
     ]
    }
   ],
   "source": [
    "swap_avg_by_hour = [] # an empty list where the two elements from the previous list being swapped.\n",
    "# previously: [[hour, average by hour]] --> swap elements to: [[avaerage by hour, hour]]\n",
    "\n",
    "for x in avg_by_hour:\n",
    "    swap_avg_by_hour.append([x[1], x[0]])\n",
    "\n",
    "sorted_swap = sorted(swap_avg_by_hour, reverse=True)[:5]\n",
    "print(\"Top 5 Hours for Ask Posts Comments:\\n\")\n",
    "print(\"=\"*50)\n",
    "for x in sorted_swap:\n",
    "    time = dt.datetime.strptime(x[1], \"%H\").strftime(\"%H:%M\")\n",
    "    template = \"{hour}: {num:.2f} average comments per post.\"\n",
    "    print(template.format(hour=time, num=x[0]))"
   ]
  },
  {
   "cell_type": "markdown",
   "metadata": {},
   "source": [
    "## Conclusion"
   ]
  },
  {
   "cell_type": "markdown",
   "metadata": {},
   "source": [
    "From the last cell above we see that at the hour of 15:00 has the average of 38.59 which means that a post being created at that certain hour is more likely to receive comments. Since we're using 24 hour notation, 15:00 means 3 PM in 12 hour notation.\n",
    "\n",
    "Not only that if you take a closer look at the list we see a pattern:\n",
    " - in the afternoon which is 15:00 - 16:00 (3PM - 4PM) has the average of 38.59 and 16.80\n",
    " - at night which is 20:00 - 21:00 (8 PM - 9 PM) has the average of 21.52 and 16.01\n",
    " - in the morning which is 02:00 (2 AM) has the average of 23.81\n",
    " \n",
    "what this also means is that you are also more likely to receive comments at these hours. "
   ]
  },
  {
   "cell_type": "code",
   "execution_count": null,
   "metadata": {},
   "outputs": [],
   "source": []
  }
 ],
 "metadata": {
  "kernelspec": {
   "display_name": "Python 3",
   "language": "python",
   "name": "python3"
  },
  "language_info": {
   "codemirror_mode": {
    "name": "ipython",
    "version": 3
   },
   "file_extension": ".py",
   "mimetype": "text/x-python",
   "name": "python",
   "nbconvert_exporter": "python",
   "pygments_lexer": "ipython3",
   "version": "3.8.10"
  }
 },
 "nbformat": 4,
 "nbformat_minor": 4
}
