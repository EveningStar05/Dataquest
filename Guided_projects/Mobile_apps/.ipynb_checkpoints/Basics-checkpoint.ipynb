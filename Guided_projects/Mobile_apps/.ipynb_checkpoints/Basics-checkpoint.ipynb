{
 "cells": [
  {
   "cell_type": "markdown",
   "metadata": {},
   "source": [
    "## Mobile Apps Analysis.\n",
    "\n",
    "### Introduction:\n",
    "\n",
    "Let's pretend that we're working as a data analysts for a company that builds Android and iOS mobile apps. We make our apps available on Google Play and in App Store.\n",
    "\n",
    "In this notebook we'll be unconvering apps that are free to download with the main source of revenue consists of in-app ads. Which means that the number of users determines our revenue for any given free app. The goal of this project is to analyze data to help the developers understand what type of apps are likely to attract more users.\n",
    "\n",
    "Let's begin by importing important packages, then we'll opened the dataset and begin to explore."
   ]
  },
  {
   "cell_type": "code",
   "execution_count": 1,
   "metadata": {},
   "outputs": [],
   "source": [
    "from csv import reader"
   ]
  },
  {
   "cell_type": "code",
   "execution_count": 2,
   "metadata": {},
   "outputs": [],
   "source": [
    "app_store_file = list(reader(open(\"./apple_store/AppleStore.csv\", encoding=\"utf8\")))\n",
    "header_app_store = app_store_file[0]\n",
    "app_store = app_store_file[1:]\n",
    "\n",
    "google_play_file = list(reader(open('./android/googleplaystore.csv', encoding='utf8')))\n",
    "header_android = google_play_file[0]\n",
    "android_store = google_play_file[1:]\n",
    "\n",
    "def explore_data(dataset, start, end, rows_and_columns=False):\n",
    "    dataset_slice = dataset[start:end]    \n",
    "    for row in dataset_slice:\n",
    "        print(row)\n",
    "        print('\\n') # adds a new (empty) line after each row\n",
    "\n",
    "    if rows_and_columns:\n",
    "        print('Number of rows:', len(dataset))\n",
    "        print('Number of columns:', len(dataset[0]))"
   ]
  },
  {
   "cell_type": "code",
   "execution_count": 3,
   "metadata": {},
   "outputs": [
    {
     "name": "stdout",
     "output_type": "stream",
     "text": [
      "Apple Store Data: \n",
      "['2', '281796108', 'Evernote - stay organized', '158578688', 'USD', '0', '161065', '26', '4', '3.5', '8.2.2', '4+', 'Productivity', '37', '5', '23', '1']\n",
      "\n",
      "\n",
      "['3', '281940292', 'WeatherBug - Local Weather, Radar, Maps, Alerts', '100524032', 'USD', '0', '188583', '2822', '3.5', '4.5', '5.0.0', '4+', 'Weather', '37', '5', '3', '1']\n",
      "\n",
      "\n",
      "['4', '282614216', 'eBay: Best App to Buy, Sell, Save! Online Shopping', '128512000', 'USD', '0', '262241', '649', '4', '4.5', '5.10.0', '12+', 'Shopping', '37', '5', '9', '1']\n",
      "\n",
      "\n",
      "['5', '282935706', 'Bible', '92774400', 'USD', '0', '985920', '5320', '4.5', '5', '7.5.1', '4+', 'Reference', '37', '5', '45', '1']\n",
      "\n",
      "\n",
      "Number of rows: 7197\n",
      "Number of columns: 17\n",
      "Column Names: \n",
      "['', 'id', 'track_name', 'size_bytes', 'currency', 'price', 'rating_count_tot', 'rating_count_ver', 'user_rating', 'user_rating_ver', 'ver', 'cont_rating', 'prime_genre', 'sup_devices.num', 'ipadSc_urls.num', 'lang.num', 'vpp_lic']\n",
      "====================\n"
     ]
    }
   ],
   "source": [
    "print(\"Apple Store Data: \")\n",
    "app_store_data = explore_data(app_store, 1, 5, True)\n",
    "print(\"Column Names: \")\n",
    "print(app_store_file[0])\n",
    "print(\"=\" * 20)"
   ]
  },
  {
   "cell_type": "markdown",
   "metadata": {},
   "source": [
    "Here are the first few rows of the App Store dataset. There are 7197 number of rows and 17 columns (7197 x 17), some columns are not self explanatory you can read the more detailed description here: [Apple Store Dataset: Kaggle](\"https://www.kaggle.com/datasets/ramamet4/app-store-apple-data-set-10k-apps\")\n",
    "\n",
    "We could use track_name, price, and prime genre column for our analysis."
   ]
  },
  {
   "cell_type": "code",
   "execution_count": 4,
   "metadata": {},
   "outputs": [
    {
     "name": "stdout",
     "output_type": "stream",
     "text": [
      "Google Play Store Data: \n",
      "['Coloring book moana', 'ART_AND_DESIGN', '3.9', '967', '14M', '500,000+', 'Free', '0', 'Everyone', 'Art & Design;Pretend Play', 'January 15, 2018', '2.0.0', '4.0.3 and up']\n",
      "\n",
      "\n",
      "['U Launcher Lite – FREE Live Cool Themes, Hide Apps', 'ART_AND_DESIGN', '4.7', '87510', '8.7M', '5,000,000+', 'Free', '0', 'Everyone', 'Art & Design', 'August 1, 2018', '1.2.4', '4.0.3 and up']\n",
      "\n",
      "\n",
      "['Sketch - Draw & Paint', 'ART_AND_DESIGN', '4.5', '215644', '25M', '50,000,000+', 'Free', '0', 'Teen', 'Art & Design', 'June 8, 2018', 'Varies with device', '4.2 and up']\n",
      "\n",
      "\n",
      "['Pixel Draw - Number Art Coloring Book', 'ART_AND_DESIGN', '4.3', '967', '2.8M', '100,000+', 'Free', '0', 'Everyone', 'Art & Design;Creativity', 'June 20, 2018', '1.1', '4.4 and up']\n",
      "\n",
      "\n",
      "Number of rows: 10841\n",
      "Number of columns: 13\n",
      "Column Names: \n",
      "['App', 'Category', 'Rating', 'Reviews', 'Size', 'Installs', 'Type', 'Price', 'Content Rating', 'Genres', 'Last Updated', 'Current Ver', 'Android Ver']\n"
     ]
    }
   ],
   "source": [
    "print(\"Google Play Store Data: \")\n",
    "google_play_data = explore_data(android_store, 1, 5, True)\n",
    "print(\"Column Names: \")\n",
    "print(google_play_file[0])"
   ]
  },
  {
   "cell_type": "markdown",
   "metadata": {},
   "source": [
    "There are 10841 rows and 13 columns in the Google Playstore dataset. The column names are pretty straight forward unlike the Apple Store dataset. Here is the link to the description of each column: [Google Play Store Dataset: Kaggle](\"https://www.kaggle.com/datasets/lava18/google-play-store-apps\")\n",
    "\n",
    "We could use App, Cateogry, Rating, Price "
   ]
  },
  {
   "cell_type": "markdown",
   "metadata": {},
   "source": [
    "# Data Cleaning"
   ]
  },
  {
   "cell_type": "markdown",
   "metadata": {},
   "source": [
    "### 1. Check for Incorrect Entry of Data"
   ]
  },
  {
   "cell_type": "code",
   "execution_count": 5,
   "metadata": {},
   "outputs": [
    {
     "name": "stdout",
     "output_type": "stream",
     "text": [
      "google play column: \n",
      "['App', 'Category', 'Rating']\n",
      "====================\n",
      "Incorrect data: \n",
      "['Life Made WI-Fi Touchscreen Photo Frame', '1.9', '19']\n",
      "==================================================\n"
     ]
    }
   ],
   "source": [
    "print(\"google play column: \")\n",
    "print(header_android[0:3])\n",
    "\n",
    "print(\"=\" * 20)\n",
    "print(\"Incorrect data: \")\n",
    "print(android_store[10472][0:3]) # incorrect data at category and rating. Rating scale should be 1 - 5 (float)\n",
    "print(\"=\" * 50)"
   ]
  },
  {
   "cell_type": "markdown",
   "metadata": {},
   "source": [
    "There has been reported an incorrect data in the Google playstore dataset in the discussion section, specifically in the Rating column. The incorrect data is **Life Made WI-Fi Touchscreen Photo Frame** which has the number \"19\" in the Rating column. \n",
    "\n",
    "According to the Google Playstore rating, it should be from a scale of 1 - 5. This was caused by missing value in \"Category\" column that shifted the value.\n",
    "\n",
    "We could delete this entry from our dataset."
   ]
  },
  {
   "cell_type": "code",
   "execution_count": 6,
   "metadata": {},
   "outputs": [],
   "source": [
    "del android_store[10472] # run it only once."
   ]
  },
  {
   "cell_type": "code",
   "execution_count": 7,
   "metadata": {},
   "outputs": [
    {
     "data": {
      "text/plain": [
       "['osmino Wi-Fi: free WiFi',\n",
       " 'TOOLS',\n",
       " '4.2',\n",
       " '134203',\n",
       " '4.1M',\n",
       " '10,000,000+',\n",
       " 'Free',\n",
       " '0',\n",
       " 'Everyone',\n",
       " 'Tools',\n",
       " 'August 7, 2018',\n",
       " '6.06.14',\n",
       " '4.4 and up']"
      ]
     },
     "execution_count": 7,
     "metadata": {},
     "output_type": "execute_result"
    }
   ],
   "source": [
    "android_store[10472] # check to see wether the data has been deleted or not"
   ]
  },
  {
   "cell_type": "markdown",
   "metadata": {},
   "source": [
    "### 2. Check and Remove Duplicates"
   ]
  },
  {
   "cell_type": "markdown",
   "metadata": {},
   "source": [
    "As we explore further noticed how there are duplicated entries in the datasets. We don't want duplicates in our analysis as it would result in redundancies. Here is an example of **Instagram**."
   ]
  },
  {
   "cell_type": "code",
   "execution_count": 8,
   "metadata": {},
   "outputs": [
    {
     "name": "stdout",
     "output_type": "stream",
     "text": [
      "Header:  ['App', 'Category', 'Rating', 'Reviews']\n",
      "==================================================\n",
      "['Instagram', 'SOCIAL', '4.5', '66577313']\n",
      "['Instagram', 'SOCIAL', '4.5', '66577446']\n",
      "['Instagram', 'SOCIAL', '4.5', '66577313']\n",
      "['Instagram', 'SOCIAL', '4.5', '66509917']\n"
     ]
    }
   ],
   "source": [
    "print(\"Header: \", header_android[:4])\n",
    "print(\"=\" * 50)\n",
    "for x in android_store:\n",
    "    if x[0] == \"Instagram\":\n",
    "        print(x[:4])"
   ]
  },
  {
   "cell_type": "markdown",
   "metadata": {},
   "source": [
    "We see that Instagram has 4 entries, we could randomly remove them and keep only 1. However if you look closely in the Review column you see that each data has different Review counts. This means the higher the number of Review is, the recent the data are. \n",
    "\n",
    "We might loss some important information if we were to perform random deletion, instead we could keep the highest number of Reviews. Let's check how many duplicated data in the Google Playstore dataset."
   ]
  },
  {
   "cell_type": "code",
   "execution_count": 9,
   "metadata": {},
   "outputs": [
    {
     "name": "stdout",
     "output_type": "stream",
     "text": [
      "Number of duplicated apps:  1181\n",
      "Example of duplicated apps: \n",
      "\n",
      "\n",
      "['Quick PDF Scanner + OCR FREE', 'Box', 'Google My Business', 'ZOOM Cloud Meetings', 'join.me - Simple Meetings', 'Box', 'Zenefits', 'Google Ads', 'Google My Business', 'Slack']\n",
      "====================\n",
      "Number of unique apps:  9659\n",
      "Example of unique apps: \n",
      "\n",
      "\n",
      "['Photo Editor & Candy Camera & Grid & ScrapBook', 'Coloring book moana', 'U Launcher Lite – FREE Live Cool Themes, Hide Apps', 'Sketch - Draw & Paint', 'Pixel Draw - Number Art Coloring Book', 'Paper flowers instructions', 'Smoke Effect Photo Maker - Smoke Editor', 'Infinite Painter', 'Garden Coloring Book', 'Kids Paint Free - Drawing Fun']\n",
      "====================\n",
      "\n",
      "\n",
      "Expected length:  9659\n"
     ]
    }
   ],
   "source": [
    "duplicate_apps = []\n",
    "unique_apps = []\n",
    "\n",
    "for app in android_store:\n",
    "    name = app[0]\n",
    "    if name in unique_apps:\n",
    "        duplicate_apps.append(name)\n",
    "    else:\n",
    "        unique_apps.append(name)\n",
    "print(\"Number of duplicated apps: \", len(duplicate_apps))\n",
    "print(\"Example of duplicated apps: \")\n",
    "print(\"\\n\")\n",
    "print(duplicate_apps[:10])\n",
    "\n",
    "print(\"=\" * 20)\n",
    "print(\"Number of unique apps: \", len(unique_apps))\n",
    "print(\"Example of unique apps: \")\n",
    "print(\"\\n\")\n",
    "print(unique_apps[:10])\n",
    "print(\"=\" * 20)\n",
    "print(\"\\n\")\n",
    "\n",
    "print(\"Expected length: \", len(android_store) - len(duplicate_apps))"
   ]
  },
  {
   "cell_type": "markdown",
   "metadata": {},
   "source": [
    "As you can see there are a total of 1181 duplicated apps and 9659 apps that are unique. If we were to remove duplicates in our data then our expected length would be 9659 => (original length of the dataset - duplicates)\n",
    "\n",
    "To remove them we could use Python's dictionary as it does not allow any duplicates. Dictionary consists of key and value. The \"Key\" here will be unique app names and the value will be their corresponding Review."
   ]
  },
  {
   "cell_type": "code",
   "execution_count": 10,
   "metadata": {},
   "outputs": [
    {
     "name": "stdout",
     "output_type": "stream",
     "text": [
      "Expected length:  9659\n"
     ]
    }
   ],
   "source": [
    "reviews_max = {}\n",
    "\n",
    "for x in android_store: # loop through the google play dataset\n",
    "    name = x[0] # app name\n",
    "    n_reviews = float(x[3]) # reviews (string), convert to data type: float\n",
    "    \n",
    "    if name in reviews_max and reviews_max[name] < n_reviews: # if name already exist as key in reviews_max\n",
    "        reviews_max[name] < n_reviews\n",
    "    elif not name in reviews_max:\n",
    "        reviews_max[name] = n_reviews\n",
    "\n",
    "print(\"Expected length: \", len(reviews_max))"
   ]
  },
  {
   "cell_type": "markdown",
   "metadata": {},
   "source": [
    "Here's a breakdown from above code:\n",
    "1. Create a variable named \"name\" which will store the app names\n",
    "2. Create another variable named \"n_review\" which will store the corresponding Review and convert it into float\n",
    "3. Create a conditional statement, this is where the filter process takes place:\n",
    "    - if name already exists as key in the \"review_max\" dictionary and review_max[name] < n_reviews then update the number of reviews for that entry in the reviews_max dictionary.\n",
    "    - if name is not in the review_max dictionary key, create a new entry in the dictionary where the key is the app name and the value if the number of reviews. "
   ]
  },
  {
   "cell_type": "code",
   "execution_count": 11,
   "metadata": {},
   "outputs": [
    {
     "name": "stdout",
     "output_type": "stream",
     "text": [
      "9659\n"
     ]
    }
   ],
   "source": [
    "android_clean = []\n",
    "already_added = []\n",
    "\n",
    "for x in android_store:\n",
    "    name = x[0]\n",
    "    n_reviews = float(x[3])\n",
    "    if n_reviews == reviews_max[name] and not name in already_added:\n",
    "        android_clean.append(x)\n",
    "        already_added.append(name)\n",
    "        \n",
    "print(len(android_clean))"
   ]
  },
  {
   "cell_type": "markdown",
   "metadata": {},
   "source": [
    "Let's filter out duplicates and non duplicates by seperating them into two seperate lists, we'll be using reviews_max dictionary.\n",
    "\n",
    "Start by creating two empty lists: \n",
    " - android_clean: we will store the new cleaned dataset here.\n",
    " - already_added: we will store app names.\n",
    "\n",
    "Then looped through the Google Playstore dataset. for each iteration we do the following:\n",
    "   1. create a varible named \"name\" which will store the app names\n",
    "   2. create another varible named \"n_reviews\" which will store the number of Reviews and convert it into float.\n",
    "   3. Create a conditional if statement where:\n",
    "        - if n_reviews is equal to the value in the reviews_max dictionary and not inside alread_added list:\n",
    "           - append the whole row to android_clean list\n",
    "           - append the app names only to the already_added list\n",
    "        \n"
   ]
  },
  {
   "cell_type": "markdown",
   "metadata": {},
   "source": [
    "### 3. Removing Non-English Apps"
   ]
  },
  {
   "cell_type": "code",
   "execution_count": 12,
   "metadata": {},
   "outputs": [
    {
     "name": "stdout",
     "output_type": "stream",
     "text": [
      "436957087\n",
      "1144164707\n"
     ]
    }
   ],
   "source": [
    "# print(\"From Apple Store dataset: \")\n",
    "# print(\"\\n\")\n",
    "print(app_store[814][1])\n",
    "print(app_store[6731][1])\n",
    "# print(\"=\" * 20)\n",
    "# print(\"From Google Play dataset: \")\n",
    "# print(\"\\n\")\n",
    "# print(android_clean[4412][0])"
   ]
  },
  {
   "cell_type": "markdown",
   "metadata": {},
   "source": [
    "Since we are only interested in english app we need to filter out non-english apps from our dataset. To do that we need to check each app name wether they contained symbols that are uncommonly used in English text. English text usually includes letters from the English alphabet like numbers (ex: 0-9), punctuation (ex: ., !, ?) and other symbols (ex: +, *, /)\n",
    "\n",
    "Each string has a corresponding number associated with it. According to the ASCII (American Standard Code for Information Interchange) system the numbers that corresponds to the character that are commonly used in English text are all range from 0 to 127.\n",
    "\n",
    "We could use the ord() function to check the length of these characters."
   ]
  },
  {
   "cell_type": "code",
   "execution_count": 13,
   "metadata": {},
   "outputs": [
    {
     "name": "stdout",
     "output_type": "stream",
     "text": [
      "97\n",
      "65\n",
      "29233\n",
      "53\n",
      "43\n"
     ]
    }
   ],
   "source": [
    "print(ord(\"a\"))\n",
    "print(ord(\"A\"))\n",
    "print(ord(\"爱\"))\n",
    "print(ord(\"5\"))\n",
    "print(ord(\"+\"))"
   ]
  },
  {
   "cell_type": "markdown",
   "metadata": {},
   "source": [
    "Let's create a function that takes a string. Then we loop over the string and check it using the ord() function wether the string is over 127 or not. "
   ]
  },
  {
   "cell_type": "code",
   "execution_count": 14,
   "metadata": {},
   "outputs": [
    {
     "name": "stdout",
     "output_type": "stream",
     "text": [
      "True\n",
      "False\n",
      "False\n",
      "False\n"
     ]
    }
   ],
   "source": [
    "def check_string_test(text):\n",
    "    for x in text:\n",
    "        if ord(x) > 127:\n",
    "            return False\n",
    "    return True\n",
    "\n",
    "print(check_string_test(\"Instagram\"))\n",
    "print(check_string_test(\"爱奇艺PPS -《欢乐颂2》电视剧热播\"))\n",
    "print(check_string_test('Docs To Go™ Free Office Suite'))\n",
    "print(check_string_test('Instachat 😜')) # False because of the Emoji "
   ]
  },
  {
   "cell_type": "markdown",
   "metadata": {},
   "source": [
    "Unfortunately emojis and ™ symbol fall out of the ASCII range. To minimize the loss of our data we could remove apps if it has a name that is more than 3 characters with the corresponding numbers falling outside the ASCII range. This means English apps with emojis and other special characters will still be labeled English."
   ]
  },
  {
   "cell_type": "code",
   "execution_count": 15,
   "metadata": {},
   "outputs": [
    {
     "name": "stdout",
     "output_type": "stream",
     "text": [
      "True\n",
      "False\n",
      "True\n",
      "True\n"
     ]
    }
   ],
   "source": [
    "def check_string(text):\n",
    "    count_char = 0\n",
    "    for x in text:\n",
    "        if ord(x) > 127:\n",
    "            count_char += 1\n",
    "    if count_char > 3:\n",
    "        return False\n",
    "    else:\n",
    "        return True\n",
    "\n",
    "print(check_string(\"Instagram\"))\n",
    "print(check_string(\"爱奇艺PPS -《欢乐颂2》电视剧热播\"))\n",
    "print(check_string('Docs To Go™ Free Office Suite'))\n",
    "print(check_string('Instachat 😜')) # False because of the Emoji "
   ]
  },
  {
   "cell_type": "markdown",
   "metadata": {},
   "source": [
    "Now let's implement the previous function to our dataset. In this function I'm filtering out non-English apps from both dataset. Create two empty list which will contain the following: \n",
    "\n",
    "1. **non_english_apps**, will store all non-English apps\n",
    "2. **english_apps**, will store English only apps (the whole row)."
   ]
  },
  {
   "cell_type": "code",
   "execution_count": 16,
   "metadata": {},
   "outputs": [
    {
     "name": "stdout",
     "output_type": "stream",
     "text": [
      "Example of Google play dataset (English only):\n",
      "['Photo Editor & Candy Camera & Grid & ScrapBook', 'ART_AND_DESIGN', '4.1', '159', '19M', '10,000+', 'Free', '0', 'Everyone', 'Art & Design', 'January 7, 2018', '1.0.0', '4.0.3 and up']\n",
      "\n",
      "\n",
      "['Coloring book moana', 'ART_AND_DESIGN', '3.9', '967', '14M', '500,000+', 'Free', '0', 'Everyone', 'Art & Design;Pretend Play', 'January 15, 2018', '2.0.0', '4.0.3 and up']\n",
      "\n",
      "\n",
      "['U Launcher Lite – FREE Live Cool Themes, Hide Apps', 'ART_AND_DESIGN', '4.7', '87510', '8.7M', '5,000,000+', 'Free', '0', 'Everyone', 'Art & Design', 'August 1, 2018', '1.2.4', '4.0.3 and up']\n",
      "\n",
      "\n",
      "['Sketch - Draw & Paint', 'ART_AND_DESIGN', '4.5', '215644', '25M', '50,000,000+', 'Free', '0', 'Teen', 'Art & Design', 'June 8, 2018', 'Varies with device', '4.2 and up']\n",
      "\n",
      "\n",
      "['Pixel Draw - Number Art Coloring Book', 'ART_AND_DESIGN', '4.3', '967', '2.8M', '100,000+', 'Free', '0', 'Everyone', 'Art & Design;Creativity', 'June 20, 2018', '1.1', '4.4 and up']\n",
      "\n",
      "\n",
      "Number of rows: 9614\n",
      "Number of columns: 13\n",
      "None\n",
      "Total of English only apps in Google Playstore:  9614\n",
      "====================\n",
      "\n",
      "\n",
      "Example of Apple Store dataset (English only):\n",
      "['1', '281656475', 'PAC-MAN Premium', '100788224', 'USD', '3.99', '21292', '26', '4', '4.5', '6.3.5', '4+', 'Games', '38', '5', '10', '1']\n",
      "\n",
      "\n",
      "['2', '281796108', 'Evernote - stay organized', '158578688', 'USD', '0', '161065', '26', '4', '3.5', '8.2.2', '4+', 'Productivity', '37', '5', '23', '1']\n",
      "\n",
      "\n",
      "['3', '281940292', 'WeatherBug - Local Weather, Radar, Maps, Alerts', '100524032', 'USD', '0', '188583', '2822', '3.5', '4.5', '5.0.0', '4+', 'Weather', '37', '5', '3', '1']\n",
      "\n",
      "\n",
      "['4', '282614216', 'eBay: Best App to Buy, Sell, Save! Online Shopping', '128512000', 'USD', '0', '262241', '649', '4', '4.5', '5.10.0', '12+', 'Shopping', '37', '5', '9', '1']\n",
      "\n",
      "\n",
      "['5', '282935706', 'Bible', '92774400', 'USD', '0', '985920', '5320', '4.5', '5', '7.5.1', '4+', 'Reference', '37', '5', '45', '1']\n",
      "\n",
      "\n",
      "Number of rows: 6183\n",
      "Number of columns: 17\n",
      "None\n",
      "Total of English only apps in Apple Store:  6183\n",
      "Total of non-english apps in Apple Store:  1014\n"
     ]
    }
   ],
   "source": [
    "def check_english_apps(dataset, index):\n",
    "    non_english_apps = []\n",
    "    english_apps = []\n",
    "    \n",
    "    for name in dataset:\n",
    "        if check_string(name[index]):\n",
    "            english_apps.append(name)\n",
    "        else:\n",
    "            non_english_apps.append(name)\n",
    "    return english_apps, non_english_apps\n",
    "english_apps_android, non_english_apps_android = check_english_apps(android_clean, 0)\n",
    "english_apps_apple_store, non_english_apps_apple_store = check_english_apps(app_store, 2)\n",
    "\n",
    "print(\"Example of Google play dataset (English only):\")\n",
    "print(explore_data(english_apps_android, 0, 5, True))\n",
    "print(\"Total of English only apps in Google Playstore: \", len(english_apps_android))\n",
    "print(\"=\" * 20)\n",
    "print(\"\\n\")\n",
    "print(\"Example of Apple Store dataset (English only):\")\n",
    "print(explore_data(english_apps_apple_store, 0, 5, True))\n",
    "print(\"Total of English only apps in Apple Store: \", len(english_apps_apple_store))\n",
    "print(\"Total of non-english apps in Apple Store: \", len(non_english_apps_apple_store))"
   ]
  },
  {
   "cell_type": "markdown",
   "metadata": {},
   "source": [
    "### 4. Isolating Free Apps"
   ]
  },
  {
   "cell_type": "markdown",
   "metadata": {},
   "source": [
    "As mentioned above in the introduction we're only interested in Free apps with ads as our source of revenue. Both datasets contains free and non-free apps. We need to isolate the free apps from the non-free apps.\n",
    "\n",
    "To do that we need to create two empty list to seperate them:\n",
    "   1. free: which will contain all apps that are free (with the price equal to \"0\").\n",
    "   2. non_free_app: will contain all non-free apps.\n",
    "\n",
    "the two list will be inside a function, since we'll be reusing this code. The function will take two parameters:\n",
    "   1. dataset: the dataset that will pass through the function\n",
    "   2. index: index number\n",
    "\n",
    "looped through the given dataset that's passed through the function. Then for each iteration, let's assign the app name (by their index number) to a variable named \"price\". then create an conditional statement where:\n",
    "   1. if variable \"price\" is equal to \"0\" or \"price\" is equal to \"0.0\" (data type: string not float or integer) then append the whole row to the \"free\" list\n",
    "   2. else append the whole row to non_free list"
   ]
  },
  {
   "cell_type": "code",
   "execution_count": 17,
   "metadata": {},
   "outputs": [
    {
     "name": "stdout",
     "output_type": "stream",
     "text": [
      "Free Apps in Google Playstore:  8862\n",
      "Non-free Apps in Google Playstore:  752\n",
      "====================\n",
      "Free Apps in Apple Store:  3222\n",
      "Non-free Apps in Apple Store:  2961\n"
     ]
    }
   ],
   "source": [
    "def check_price(dataset, index):\n",
    "    free = []\n",
    "    non_free = []\n",
    "    for x in dataset:\n",
    "        price = x[index]\n",
    "        if price == \"0\" or price == \"0.0\":\n",
    "            free.append(x)\n",
    "        else:\n",
    "            non_free.append(x)\n",
    "    return free, non_free\n",
    "\n",
    "free_app_store, nonfree_app_store= check_price(english_apps_apple_store, 5)\n",
    "free_android_store, nonfree_android_store = check_price(english_apps_android, 7)\n",
    "\n",
    "print(\"Free Apps in Google Playstore: \", len(free_android_store)) # I'm missing 2 data here, it should be 8864. What did I do wrong?\n",
    "print(\"Non-free Apps in Google Playstore: \", len(nonfree_android_store))\n",
    "print(\"=\" * 20)\n",
    "\n",
    "print(\"Free Apps in Apple Store: \", len(free_app_store))\n",
    "print(\"Non-free Apps in Apple Store: \", len(nonfree_app_store))"
   ]
  },
  {
   "cell_type": "markdown",
   "metadata": {},
   "source": [
    "## Analysis"
   ]
  },
  {
   "cell_type": "markdown",
   "metadata": {},
   "source": [
    "### Most Common Genre"
   ]
  },
  {
   "cell_type": "markdown",
   "metadata": {},
   "source": [
    "As mentioned in the introduction above, the goal of this project is to determine which type of apps that are more likely to attract users since the number of users affect our revenue.\n",
    "\n",
    "Here is a strategy for an app idea that has three steps:\n",
    "   1. Build a minimal Android version of the app, then add it to Google Playstore.\n",
    "   2. If the app has a good response from the users we can then develop further.\n",
    "   3. if the app turns out to be profitable in 6 months, we then build an iOS version of the app and deploy it to App Store.\n",
    "   \n",
    "Since our end goal is to add app on both Google and App Store, we need to find app profiles that are successful in both markets. For example a profile that works well for both markets might be a productivity app that makes use of gamification.\n",
    "\n",
    "Lets create an analysis to determine which are most common genre. We could use \"prime_genre\" from the App Store dataset, and \"Genres\" and \"Category\" from Google Playstore."
   ]
  },
  {
   "cell_type": "code",
   "execution_count": 18,
   "metadata": {},
   "outputs": [
    {
     "name": "stdout",
     "output_type": "stream",
     "text": [
      "App Store most common 'prime_genres': \n",
      "==================================================\n",
      "\n",
      "\n",
      "Games : 58.16263190564867\n",
      "Entertainment : 7.883302296710118\n",
      "Photo & Video : 4.9658597144630665\n",
      "Education : 3.662321539416512\n",
      "Social Networking : 3.2898820608317814\n",
      "Shopping : 2.60707635009311\n",
      "Utilities : 2.5139664804469275\n",
      "Sports : 2.1415270018621975\n",
      "Music : 2.0484171322160147\n",
      "Health & Fitness : 2.0173805090006205\n",
      "Productivity : 1.7380509000620732\n",
      "Lifestyle : 1.5828677839851024\n",
      "News : 1.3345747982619491\n",
      "Travel : 1.2414649286157666\n",
      "Finance : 1.1173184357541899\n",
      "Weather : 0.8690254500310366\n",
      "Food & Drink : 0.8069522036002483\n",
      "Reference : 0.5586592178770949\n",
      "Business : 0.5276225946617008\n",
      "Book : 0.4345127250155183\n",
      "Navigation : 0.186219739292365\n",
      "Medical : 0.186219739292365\n",
      "Catalogs : 0.12414649286157665\n",
      "==================================================\n"
     ]
    }
   ],
   "source": [
    "def freq_table(dataset, index):\n",
    "    freq = {}\n",
    "    length = len(dataset)\n",
    "    for data in dataset:\n",
    "        genre = data[index]\n",
    "        if not genre in freq:\n",
    "            freq[genre] = 1\n",
    "        else:\n",
    "            freq[genre] += 1\n",
    "    for keys in freq:\n",
    "        avg_num = (freq[keys] / length) * 100\n",
    "        freq[keys] = avg_num\n",
    "    return freq\n",
    "\n",
    "def display_table(dataset, index):\n",
    "    table = freq_table(dataset, index)\n",
    "    table_display = []\n",
    "    for key in table:\n",
    "        key_val_as_tuple = (table[key], key)\n",
    "        table_display.append(key_val_as_tuple)\n",
    "\n",
    "    table_sorted = sorted(table_display, reverse = True)\n",
    "    for entry in table_sorted:\n",
    "        print(entry[1], ':', entry[0])\n",
    "\n",
    "print(\"App Store most common \\'prime_genres\\': \")\n",
    "print(\"=\" * 50)\n",
    "print(\"\\n\")\n",
    "display_table(free_app_store, 12)\n",
    "print(\"=\" * 50)"
   ]
  },
  {
   "cell_type": "markdown",
   "metadata": {},
   "source": [
    "Based on the frequency table as shown above \"Games\" is the most common \"prime_genre\" in App Store, along with \"Entertainment\" and Photo & Video.\n",
    "**Here are 5 most common \"prime_genre\" in App Store:**\n",
    "   1. Games.\n",
    "   2. Entertainment.\n",
    "   3. Photo & Video.\n",
    "   4. Education. \n",
    "   5. Social Networking.\n",
    "   \n",
    "We see that Games takes up to 58.16% which means most apps are gaming related, followed by Entertainment (in this case it is mostly streaming services such as Youtube, Disney, NFL Sunday, etc.) and Photo & Videos with 4.96%. In conclusion most apps in the App Store are for entertainment only purposes along with Education and Social Networking too.\n",
    "\n",
    "While the least common is Navigation, Medical and Catalogs."
   ]
  },
  {
   "cell_type": "code",
   "execution_count": 19,
   "metadata": {},
   "outputs": [
    {
     "name": "stdout",
     "output_type": "stream",
     "text": [
      "Example of Entertainment apps: \n",
      "['DIRECTV', 'niconico', 'Fandango Movies - Times + Tickets', 'SFR TV', 'The Moron Test']\n"
     ]
    }
   ],
   "source": [
    "print(\"Example of Entertainment apps: \")\n",
    "first_five = [x[2] for x in free_app_store if x[12] == \"Entertainment\"][:5]\n",
    "print(first_five)"
   ]
  },
  {
   "cell_type": "code",
   "execution_count": 20,
   "metadata": {},
   "outputs": [
    {
     "name": "stdout",
     "output_type": "stream",
     "text": [
      "Google Playstore most common 'Genres': \n",
      "========================================\n",
      "Tools : 8.429248476641842\n",
      "Entertainment : 6.070864364703228\n",
      "Education : 5.348679756262695\n",
      "Business : 4.5926427443015125\n",
      "Productivity : 3.8930264048747465\n",
      "Lifestyle : 3.8930264048747465\n",
      "Finance : 3.7011961182577298\n",
      "Medical : 3.5206499661475967\n",
      "Sports : 3.4642292936131795\n",
      "Personalization : 3.3175355450236967\n",
      "Communication : 3.238546603475513\n",
      "Action : 3.1031369893929135\n",
      "Health & Fitness : 3.080568720379147\n",
      "Photography : 2.945159106296547\n",
      "News & Magazines : 2.798465357707064\n",
      "Social : 2.663055743624464\n",
      "Travel & Local : 2.324531708417964\n",
      "Shopping : 2.2455427668697814\n",
      "Books & Reference : 2.143985556307831\n",
      "Simulation : 2.0424283457458814\n",
      "Dating : 1.8618821936357481\n",
      "Arcade : 1.8505980591288649\n",
      "Video Players & Editors : 1.7716091175806816\n",
      "Casual : 1.7603249830737984\n",
      "Maps & Navigation : 1.399232678853532\n",
      "Food & Drink : 1.2412547957571656\n",
      "Puzzle : 1.128413450688332\n",
      "Racing : 0.9930038366057323\n",
      "Role Playing : 0.9365831640713158\n",
      "Libraries & Demo : 0.9365831640713158\n",
      "Auto & Vehicles : 0.9252990295644324\n",
      "Strategy : 0.9140148950575491\n",
      "House & Home : 0.8350259535093659\n",
      "Weather : 0.8011735499887158\n",
      "Events : 0.7109004739336493\n",
      "Adventure : 0.6770480704129994\n",
      "Comics : 0.6093432633716994\n",
      "Beauty : 0.598059128864816\n",
      "Art & Design : 0.598059128864816\n",
      "Parenting : 0.49650191830286616\n",
      "Card : 0.45136538027533285\n",
      "Casino : 0.4287971112615662\n",
      "Trivia : 0.41751297675468296\n",
      "Educational;Education : 0.3949447077409162\n",
      "Educational : 0.3723764387271496\n",
      "Board : 0.3723764387271496\n",
      "Education;Education : 0.3385240352064997\n",
      "Word : 0.2595350936583164\n",
      "Casual;Pretend Play : 0.23696682464454977\n",
      "Music : 0.2031144211238998\n",
      "Racing;Action & Adventure : 0.16926201760324985\n",
      "Puzzle;Brain Games : 0.16926201760324985\n",
      "Entertainment;Music & Video : 0.16926201760324985\n",
      "Casual;Brain Games : 0.13540961408259986\n",
      "Casual;Action & Adventure : 0.13540961408259986\n",
      "Arcade;Action & Adventure : 0.12412547957571654\n",
      "Action;Action & Adventure : 0.1015572105619499\n",
      "Educational;Pretend Play : 0.09027307605506657\n",
      "Board;Brain Games : 0.09027307605506657\n",
      "Simulation;Action & Adventure : 0.07898894154818326\n",
      "Parenting;Education : 0.07898894154818326\n",
      "Entertainment;Brain Games : 0.07898894154818326\n",
      "Parenting;Music & Video : 0.06770480704129993\n",
      "Educational;Brain Games : 0.06770480704129993\n",
      "Casual;Creativity : 0.06770480704129993\n",
      "Art & Design;Creativity : 0.06770480704129993\n",
      "Education;Pretend Play : 0.056420672534416606\n",
      "Role Playing;Pretend Play : 0.045136538027533285\n",
      "Education;Creativity : 0.045136538027533285\n",
      "Role Playing;Action & Adventure : 0.033852403520649964\n",
      "Puzzle;Action & Adventure : 0.033852403520649964\n",
      "Entertainment;Creativity : 0.033852403520649964\n",
      "Entertainment;Action & Adventure : 0.033852403520649964\n",
      "Educational;Creativity : 0.033852403520649964\n",
      "Educational;Action & Adventure : 0.033852403520649964\n",
      "Education;Music & Video : 0.033852403520649964\n",
      "Education;Brain Games : 0.033852403520649964\n",
      "Education;Action & Adventure : 0.033852403520649964\n",
      "Adventure;Action & Adventure : 0.033852403520649964\n",
      "Video Players & Editors;Music & Video : 0.022568269013766643\n",
      "Sports;Action & Adventure : 0.022568269013766643\n",
      "Simulation;Pretend Play : 0.022568269013766643\n",
      "Puzzle;Creativity : 0.022568269013766643\n",
      "Music;Music & Video : 0.022568269013766643\n",
      "Entertainment;Pretend Play : 0.022568269013766643\n",
      "Casual;Education : 0.022568269013766643\n",
      "Board;Action & Adventure : 0.022568269013766643\n",
      "Video Players & Editors;Creativity : 0.011284134506883321\n",
      "Trivia;Education : 0.011284134506883321\n",
      "Travel & Local;Action & Adventure : 0.011284134506883321\n",
      "Tools;Education : 0.011284134506883321\n",
      "Strategy;Education : 0.011284134506883321\n",
      "Strategy;Creativity : 0.011284134506883321\n",
      "Strategy;Action & Adventure : 0.011284134506883321\n",
      "Simulation;Education : 0.011284134506883321\n",
      "Role Playing;Brain Games : 0.011284134506883321\n",
      "Racing;Pretend Play : 0.011284134506883321\n",
      "Puzzle;Education : 0.011284134506883321\n",
      "Parenting;Brain Games : 0.011284134506883321\n",
      "Music & Audio;Music & Video : 0.011284134506883321\n",
      "Lifestyle;Pretend Play : 0.011284134506883321\n",
      "Lifestyle;Education : 0.011284134506883321\n",
      "Health & Fitness;Education : 0.011284134506883321\n",
      "Health & Fitness;Action & Adventure : 0.011284134506883321\n",
      "Entertainment;Education : 0.011284134506883321\n",
      "Communication;Creativity : 0.011284134506883321\n",
      "Comics;Creativity : 0.011284134506883321\n",
      "Casual;Music & Video : 0.011284134506883321\n",
      "Card;Action & Adventure : 0.011284134506883321\n",
      "Books & Reference;Education : 0.011284134506883321\n",
      "Art & Design;Pretend Play : 0.011284134506883321\n",
      "Art & Design;Action & Adventure : 0.011284134506883321\n",
      "Arcade;Pretend Play : 0.011284134506883321\n",
      "Adventure;Education : 0.011284134506883321\n",
      "==================================================\n"
     ]
    }
   ],
   "source": [
    "print(\"Google Playstore most common \\'Genres\\': \")\n",
    "print(\"=\" * 40)\n",
    "display_table(free_android_store, 9)\n",
    "print(\"=\" * 50)"
   ]
  },
  {
   "cell_type": "markdown",
   "metadata": {},
   "source": [
    "Surprisingly in the Google Playstore dataset entertainment and practical purposes apps are most common.\n",
    "\n",
    "Here are **5 most common \"Genres\" in google playstore:**\n",
    "\n",
    "   1. Tools. \n",
    "   2. Entertainment. \n",
    "   3. Education. \n",
    "   4. Business. \n",
    "   5. Productivity.\n",
    "   \n",
    "Although unlike the App Store with Games that are more dominant than the rest, there's a balance between entertainment (most of the Entertainment apps falls between games and streaming services.) and practical purposes apps (Google translate, Google Assistant, Maps, etc.) \n",
    "\n",
    "As shown in the table above, the five first list of Genres has a very small percentages compared to the Apple Store dataset. Let's take a look at the Category column. "
   ]
  },
  {
   "cell_type": "code",
   "execution_count": 21,
   "metadata": {},
   "outputs": [
    {
     "name": "stdout",
     "output_type": "stream",
     "text": [
      "Google Playstore most common 'Category': \n",
      "FAMILY : 18.449559918754233\n",
      "GAME : 9.873617693522906\n",
      "TOOLS : 8.440532611148726\n",
      "BUSINESS : 4.5926427443015125\n",
      "LIFESTYLE : 3.9043105393816293\n",
      "PRODUCTIVITY : 3.8930264048747465\n",
      "FINANCE : 3.7011961182577298\n",
      "MEDICAL : 3.5206499661475967\n",
      "SPORTS : 3.39652448657188\n",
      "PERSONALIZATION : 3.3175355450236967\n",
      "COMMUNICATION : 3.238546603475513\n",
      "HEALTH_AND_FITNESS : 3.080568720379147\n",
      "PHOTOGRAPHY : 2.945159106296547\n",
      "NEWS_AND_MAGAZINES : 2.798465357707064\n",
      "SOCIAL : 2.663055743624464\n",
      "TRAVEL_AND_LOCAL : 2.335815842924848\n",
      "SHOPPING : 2.2455427668697814\n",
      "BOOKS_AND_REFERENCE : 2.143985556307831\n",
      "DATING : 1.8618821936357481\n",
      "VIDEO_PLAYERS : 1.782893252087565\n",
      "MAPS_AND_NAVIGATION : 1.399232678853532\n",
      "EDUCATION : 1.2863913337846988\n",
      "FOOD_AND_DRINK : 1.2412547957571656\n",
      "ENTERTAINMENT : 1.128413450688332\n",
      "LIBRARIES_AND_DEMO : 0.9365831640713158\n",
      "AUTO_AND_VEHICLES : 0.9252990295644324\n",
      "HOUSE_AND_HOME : 0.8350259535093659\n",
      "WEATHER : 0.8011735499887158\n",
      "EVENTS : 0.7109004739336493\n",
      "ART_AND_DESIGN : 0.6770480704129994\n",
      "PARENTING : 0.6544798013992327\n",
      "COMICS : 0.6206273978785828\n",
      "BEAUTY : 0.598059128864816\n",
      "==================================================\n"
     ]
    }
   ],
   "source": [
    "print(\"Google Playstore most common \\'Category\\': \")\n",
    "display_table(free_android_store, 1)\n",
    "print(\"=\" * 50)"
   ]
  },
  {
   "cell_type": "markdown",
   "metadata": {},
   "source": [
    "**5 most common \"Category\" in google playstore:**\n",
    "   1. FAMILY. \n",
    "   2. GAME. \n",
    "   3. TOOLS. \n",
    "   4. BUSINESS. \n",
    "   5. LIFESTYLE. \n",
    "   \n",
    "Both Category and Genre column are almost similar that is entertainment and practical purposes apps are most common. Most of the apps in Google Playstore are family friendly as shown in the table above. Family and Games category are almost similar but Family contains mostly family friendly games that are usually ment for children, while Games category falls more to broader audience (all ages)."
   ]
  },
  {
   "cell_type": "markdown",
   "metadata": {},
   "source": [
    "### Number of Users"
   ]
  },
  {
   "cell_type": "markdown",
   "metadata": {},
   "source": [
    "Let's find out genres with the most users. To do that we need to calculate the average number of installs for each app genre. In the Google PLaystore dataset we could use 'Installs' column, however there is no such column in App Store. We could use \"rating_count_tot\" column instead.\n",
    "\n",
    "To start off we will begin calculating the average number of user ratings per app genre on the App Store. Here are the following steps:\n",
    "   1. Isolate the apps of each genre\n",
    "   2. Add up the user ratings for the apps of that genre\n",
    "   3. Divide the sum by the number of apps belonging to that genre (not by the total number of apps)"
   ]
  },
  {
   "cell_type": "code",
   "execution_count": 22,
   "metadata": {},
   "outputs": [
    {
     "name": "stdout",
     "output_type": "stream",
     "text": [
      "Average number of users for each genre in App Store: \n",
      "==================================================\n",
      "Productivity :  21028.410714285714\n",
      "Weather :  52279.892857142855\n",
      "Shopping :  26919.690476190477\n",
      "Reference :  74942.11111111111\n",
      "Finance :  31467.944444444445\n",
      "Music :  57326.530303030304\n",
      "Utilities :  18684.456790123455\n",
      "Travel :  28243.8\n",
      "Social Networking :  71548.34905660378\n",
      "Sports :  23008.898550724636\n",
      "Health & Fitness :  23298.015384615384\n",
      "Games :  22788.6696905016\n",
      "Food & Drink :  33333.92307692308\n",
      "News :  21248.023255813954\n",
      "Book :  39758.5\n",
      "Photo & Video :  28441.54375\n",
      "Entertainment :  14029.830708661417\n",
      "Business :  7491.117647058823\n",
      "Lifestyle :  16485.764705882353\n",
      "Education :  7003.983050847458\n",
      "Navigation :  86090.33333333333\n",
      "Medical :  612.0\n",
      "Catalogs :  4004.0\n",
      "\n",
      "\n",
      "====================\n",
      "[('Navigation', 86090.33333333333), ('Reference', 74942.11111111111), ('Social Networking', 71548.34905660378), ('Music', 57326.530303030304), ('Weather', 52279.892857142855)]\n"
     ]
    }
   ],
   "source": [
    "freq_app_store = freq_table(free_app_store, 12)\n",
    "print(\"Average number of users for each genre in App Store: \")\n",
    "print(\"=\" * 50)\n",
    "genre_sort = []\n",
    "\n",
    "for genre in freq_app_store:\n",
    "    total = 0\n",
    "    len_genre = 0\n",
    "    for data in free_app_store:\n",
    "        genre_app = data[12]\n",
    "        if genre_app == genre:\n",
    "            total += float(data[6])\n",
    "            len_genre += 1\n",
    "    avg_genre = (total / len_genre)\n",
    "    genre_sort.append((genre, avg_genre))\n",
    "    print(genre, \": \", avg_genre)\n",
    "genre_sort.sort(key=lambda x: x[1], reverse=True)\n",
    "print(\"\\n\")\n",
    "print(\"=\"*20)\n",
    "print(genre_sort[:5])"
   ]
  },
  {
   "cell_type": "markdown",
   "metadata": {},
   "source": [
    "On Average \"Navigation\" has the highest amount of users followed by Reference which refers to grammar apps such as Dictionary and even the Bible. There are almost 1 million users installed the Bible app and as for Navigation we have Google Maps and Waze with over than a million users hence why these two types of apps have the highest average users. The same goes to Social Networking, we have Facebook with an almost 3 million users."
   ]
  },
  {
   "cell_type": "code",
   "execution_count": 23,
   "metadata": {},
   "outputs": [
    {
     "name": "stdout",
     "output_type": "stream",
     "text": [
      "Waze - GPS Navigation, Maps & Real-time Traffic >>>  345046\n",
      "Geocaching® >>>  12811\n",
      "ImmobilienScout24: Real Estate Search in Germany >>>  187\n",
      "Railway Route Search >>>  5\n",
      "CoPilot GPS – Car Navigation & Offline Maps >>>  3582\n",
      "Google Maps - Navigation & Transit >>>  154911\n"
     ]
    }
   ],
   "source": [
    "for x in free_app_store:\n",
    "    if x[-5] == \"Navigation\":\n",
    "        print(x[2], \">>> \", x[6])"
   ]
  },
  {
   "cell_type": "code",
   "execution_count": 24,
   "metadata": {},
   "outputs": [
    {
     "name": "stdout",
     "output_type": "stream",
     "text": [
      "Bible >>>  985920\n",
      "Dictionary.com Dictionary & Thesaurus >>>  200047\n",
      "Dictionary.com Dictionary & Thesaurus for iPad >>>  54175\n",
      "Muslim Pro: Ramadan 2017 Prayer Times, Azan, Quran >>>  18418\n",
      "Merriam-Webster Dictionary >>>  16849\n",
      "Google Translate >>>  26786\n",
      "Night Sky >>>  12122\n",
      "WWDC >>>  762\n",
      "Jishokun-Japanese English Dictionary & Translator >>>  0\n",
      "教えて!goo >>>  0\n",
      "VPN Express >>>  14\n",
      "New Furniture Mods - Pocket Wiki & Game Tools for Minecraft PC Edition >>>  17588\n",
      "LUCKY BLOCK MOD ™ for Minecraft PC Edition - The Best Pocket Wiki & Mods Installer Tools >>>  4693\n",
      "Guides for Pokémon GO - Pokemon GO News and Cheats >>>  826\n",
      "Horror Maps for Minecraft PE - Download The Scariest Maps for Minecraft Pocket Edition (MCPE) Free >>>  718\n",
      "City Maps for Minecraft PE - The Best Maps for Minecraft Pocket Edition (MCPE) >>>  8535\n",
      "GUNS MODS for Minecraft PC Edition - Mods Tools >>>  1497\n",
      "Real Bike Traffic Rider Virtual Reality Glasses >>>  8\n"
     ]
    }
   ],
   "source": [
    "for x in free_app_store:\n",
    "    if x[-5] == \"Reference\":\n",
    "        print(x[2], \">>> \", x[6])"
   ]
  },
  {
   "cell_type": "code",
   "execution_count": 25,
   "metadata": {},
   "outputs": [
    {
     "name": "stdout",
     "output_type": "stream",
     "text": [
      "Facebook >>>  2974676\n",
      "LinkedIn >>>  71856\n",
      "Skype for iPhone >>>  373519\n",
      "Tumblr >>>  334293\n",
      "Match™ - #1 Dating App. >>>  60659\n",
      "WhatsApp Messenger >>>  287589\n",
      "TextNow - Unlimited Text + Calls >>>  164963\n",
      "Grindr - Gay and same sex guys chat, meet and date >>>  23201\n",
      "imo video calls and chat >>>  18841\n",
      "Ameba >>>  269\n",
      "Weibo >>>  7265\n",
      "Badoo - Meet New People, Chat, Socialize. >>>  34428\n",
      "Kik >>>  260965\n",
      "Qzone >>>  1649\n",
      "Fake-A-Location Free ™ >>>  354\n",
      "Tango - Free Video Call, Voice and Chat >>>  75412\n",
      "MeetMe - Chat and Meet New People >>>  97072\n",
      "SimSimi >>>  23530\n",
      "Viber Messenger – Text & Call >>>  164249\n",
      "Find My Family, Friends & iPhone - Life360 Locator >>>  43877\n",
      "Weibo HD >>>  16772\n",
      "POF - Best Dating App for Conversations >>>  52642\n",
      "GroupMe >>>  28260\n",
      "Lobi >>>  36\n",
      "WeChat >>>  34584\n",
      "ooVoo – Free Video Call, Text and Voice >>>  177501\n",
      "Pinterest >>>  1061624\n",
      "知乎 >>>  397\n",
      "Qzone HD >>>  458\n",
      "Skype for iPad >>>  60163\n",
      "LINE >>>  11437\n",
      "QQ >>>  9109\n",
      "LOVOO - Dating Chat >>>  1985\n",
      "QQ HD >>>  5058\n",
      "Messenger >>>  351466\n",
      "eHarmony™ Dating App - Meet Singles >>>  11124\n",
      "YouNow: Live Stream Video Chat >>>  12079\n",
      "Cougar Dating & Life Style App for Mature Women >>>  213\n",
      "Battlefield™ Companion >>>  689\n",
      "Whisper - Share, Express, Meet >>>  39819\n",
      "We Heart It - Fashion, wallpapers, quotes, tattoos >>>  90414\n",
      "Followers - Social Analytics For Instagram >>>  112778\n",
      "InsTrack for Instagram - Analytics Plus More >>>  85535\n",
      "Followers + for Instagram - Follower Analytics >>>  28633\n",
      "Timehop >>>  49510\n",
      "Repost for Instagram >>>  15185\n",
      "LINE PLAY - Your Avatar World >>>  34677\n",
      "Nextdoor >>>  14402\n",
      "Hangouts >>>  36404\n",
      "FollowMeter for Instagram - Followers Tracking >>>  11976\n",
      "Telegram Messenger >>>  7573\n",
      "Chatous - Chat with new people >>>  1609\n",
      "QQ International >>>  274\n",
      "FireChat >>>  1037\n",
      "Jodel >>>  1193\n",
      "Wishbone - Compare Anything >>>  20649\n",
      "Zenly - Locate your friends in realtime >>>  427\n",
      "Tantan >>>  235\n",
      "Flinch - Video Chat Staring Contest >>>  2134\n",
      "botman - Real time video chat >>>  7\n",
      "豆瓣 >>>  407\n",
      "Marco Polo Video Walkie Talkie >>>  27662\n",
      "After School - Funny Anonymous School News >>>  18482\n",
      "Highrise - Your Avatar Community >>>  2011\n",
      "Quick Reposter - Repost, Regram and Reshare Photos >>>  17694\n",
      "Kiwi - Q&A >>>  1538\n",
      "Periscope - Live Video Streaming Around the World >>>  6062\n",
      "Inke—Broadcast an amazing life >>>  147\n",
      "Discord - Chat for Gamers >>>  9152\n",
      "Candid - Speak Your Mind Freely >>>  398\n",
      "Down To Lunch >>>  2535\n",
      "SOMA Messenger >>>  3232\n",
      "Rawr Messenger - Dab your chat >>>  180\n",
      "Popcorn Buzz - Free Group Calls >>>  281\n",
      "Chain: Collaborate On MyVideo Story/Group Video >>>  35\n",
      "BestieBox >>>  0\n",
      "Selfeo >>>  366\n",
      "Followers Analysis Tool For Instagram App Free >>>  4253\n",
      "Hey! VINA - Where Women Meet New Friends >>>  719\n",
      "PlayStation®Messages >>>  1918\n",
      "WhenToPost: Best Time to Post Photos for Instagram >>>  158\n",
      "MATCH ON LINE chat >>>  0\n",
      "Fiesta by Tango - Chat & Meet New People >>>  885\n",
      "Houseparty - Group Video Chat >>>  3991\n",
      "All Devices for WhatsApp - Messenger for iPad >>>  682\n",
      "Peach — share vividly >>>  727\n",
      "bit-tube - Live Stream Video Chat >>>  0\n",
      "Miitomo >>>  23965\n",
      "SoundCloud Pulse: for creators >>>  240\n",
      "IAmNaughty – Dating App to Meet New People Online >>>  463\n",
      "League of Legends Friends >>>  420\n",
      "GhostCodes - a discovery app for Snapchat >>>  1313\n",
      "live.ly - live video streaming >>>  4145\n",
      "Live.me – Live Video Chat & Make Friends Nearby >>>  14724\n",
      "BOO! - Video chat camera with filters & stickers >>>  1805\n",
      "Google Allo — smart messaging >>>  862\n",
      "Google Duo - simple video calling >>>  1033\n",
      "Chat for Whatsapp - iPad Version >>>  5060\n",
      "Chat for Pokemon Go - GoChat >>>  500\n",
      "niconico ch >>>  0\n",
      "Followers Analytics for Instagram - InstaReport >>>  13914\n",
      "Monkey >>>  3060\n",
      "LINE BLOG >>>  0\n",
      "Mustknow - anonymous video Q&A >>>  53\n",
      "CTFxCmoji >>>  39\n",
      "Fam — Group video calling for iMessage >>>  279\n"
     ]
    }
   ],
   "source": [
    "for x in free_app_store:\n",
    "    if x[-5] == \"Social Networking\":\n",
    "        print(x[2], \">>> \", x[6])"
   ]
  },
  {
   "cell_type": "markdown",
   "metadata": {},
   "source": [
    "In the Google Playstore dataset the number of installs is not precise, example: 10,000+, 100,000+, 1,000,000+ which shows we don't know how much is 10,000+ it could be 15,000 or 20,000. But that's alright, we don't need very precise data since we only want to find out which app attracts more users.\n",
    "\n",
    "We are going to leave the numbers as they are which means 10,000+ will be 10,000 but we need to do a little bit of cleaning: stripping off the symbols from the string so it would be much more easier to process."
   ]
  },
  {
   "cell_type": "code",
   "execution_count": 26,
   "metadata": {},
   "outputs": [
    {
     "name": "stdout",
     "output_type": "stream",
     "text": [
      "1,000,000+ : 15.730083502595352\n",
      "100,000+ : 11.543669600541637\n",
      "10,000,000+ : 10.550665763935905\n",
      "10,000+ : 10.212141728729407\n",
      "1,000+ : 8.395396073121193\n",
      "100+ : 6.917174452719477\n",
      "5,000,000+ : 6.82690137666441\n",
      "500,000+ : 5.574362446400361\n",
      "50,000+ : 4.773188896411646\n",
      "5,000+ : 4.513653802753328\n",
      "10+ : 3.5432182351613632\n",
      "500+ : 3.2498307379823967\n",
      "50,000,000+ : 2.279395170390431\n",
      "100,000,000+ : 2.1214172872940646\n",
      "50+ : 1.9183028661701647\n",
      "5+ : 0.7898894154818324\n",
      "1+ : 0.5077860528097494\n",
      "500,000,000+ : 0.2708192281651997\n",
      "1,000,000,000+ : 0.22568269013766643\n",
      "0+ : 0.045136538027533285\n",
      "0 : 0.011284134506883321\n"
     ]
    }
   ],
   "source": [
    "display_table(free_android_store, 5)"
   ]
  },
  {
   "cell_type": "code",
   "execution_count": 27,
   "metadata": {},
   "outputs": [
    {
     "name": "stdout",
     "output_type": "stream",
     "text": [
      "Average number of users for each genre in Google Playstore: \n",
      "==================================================\n",
      "\n",
      "\n",
      "ART_AND_DESIGN :  1905351.6666666667\n",
      "AUTO_AND_VEHICLES :  647317.8170731707\n",
      "BEAUTY :  513151.88679245283\n",
      "BOOKS_AND_REFERENCE :  8767811.894736841\n",
      "BUSINESS :  1712290.1474201474\n",
      "COMICS :  817657.2727272727\n",
      "COMMUNICATION :  38456119.167247385\n",
      "DATING :  854028.8303030303\n",
      "EDUCATION :  3082017.543859649\n",
      "ENTERTAINMENT :  21134600.0\n",
      "EVENTS :  253542.22222222222\n",
      "FINANCE :  1387692.475609756\n",
      "FOOD_AND_DRINK :  1924897.7363636363\n",
      "HEALTH_AND_FITNESS :  4188821.9853479853\n",
      "HOUSE_AND_HOME :  1313681.9054054054\n",
      "LIBRARIES_AND_DEMO :  638503.734939759\n",
      "LIFESTYLE :  1437816.2687861272\n",
      "GAME :  15837565.085714286\n",
      "FAMILY :  2691618.159021407\n",
      "MEDICAL :  120616.48717948717\n",
      "SOCIAL :  23253652.127118643\n",
      "SHOPPING :  7036877.311557789\n",
      "PHOTOGRAPHY :  17805627.643678162\n",
      "SPORTS :  3638640.1428571427\n",
      "TRAVEL_AND_LOCAL :  13984077.710144928\n",
      "TOOLS :  10695245.286096256\n",
      "PERSONALIZATION :  5201482.6122448975\n",
      "PRODUCTIVITY :  16787331.344927534\n",
      "PARENTING :  542603.6206896552\n",
      "WEATHER :  5074486.197183099\n",
      "VIDEO_PLAYERS :  24852732.40506329\n",
      "NEWS_AND_MAGAZINES :  9549178.467741935\n",
      "MAPS_AND_NAVIGATION :  4056941.7741935486\n",
      "\n",
      "\n",
      "====================\n",
      "[('COMMUNICATION', 38456119.167247385), ('VIDEO_PLAYERS', 24852732.40506329), ('SOCIAL', 23253652.127118643), ('ENTERTAINMENT', 21134600.0), ('PHOTOGRAPHY', 17805627.643678162)]\n"
     ]
    }
   ],
   "source": [
    "freq_android = freq_table(free_android_store, 1)\n",
    "app_and_user = []\n",
    "\n",
    "print(\"Average number of users for each genre in Google Playstore: \")\n",
    "print(\"=\" * 50)\n",
    "print(\"\\n\")\n",
    "\n",
    "sort_list = []\n",
    "for category in freq_android:\n",
    "    total_android = 0\n",
    "    len_category = 0\n",
    "    for data in free_android_store:\n",
    "        category_app = data[1]\n",
    "        if category_app == category:\n",
    "            num_installs = data[5] \n",
    "            num_installs = num_installs.replace(\"+\", \"\").replace(\",\", \"\")\n",
    "            total_android += float(num_installs)\n",
    "            len_category += 1\n",
    "    avg_android = total_android / len_category\n",
    "    sort_list.append((category, avg_android))\n",
    "    print(category, \": \", avg_android)\n",
    "    \n",
    "sort_list.sort(key=lambda x: x[1], reverse=True)\n",
    "print(\"\\n\")\n",
    "print(\"=\"*20)\n",
    "print(sort_list[:5])"
   ]
  },
  {
   "cell_type": "markdown",
   "metadata": {},
   "source": [
    "Communication and Video Players has high amount of average users followed by Social then Entertainment, this reflects previously mentioned there is a balance between entertainment and practical apps in the Playstore. There are roughly (since this is not a precise number.) almost 40 million users in the Communication category alone. Like in the Apple Store dataset this is because of popular apps such as Whatsapp, Messenger – Text and Video Chat for Free and Google Chrome that has large amount of users.\n",
    "\n",
    "VIDEO_PLAYERS which contains streaming services (Youtube and Iqiyi), video editor and players on average has roughly 25 million users, then we have SOCIAL which contains social media apps such as Instagram, Facebook and Tumblr has 23 million users and ENTERTAINMENT that consists mostly of streaming services such as Netflix, Tubi TV and Pluto Tv on average has 21 million average users."
   ]
  },
  {
   "cell_type": "code",
   "execution_count": 37,
   "metadata": {},
   "outputs": [
    {
     "name": "stdout",
     "output_type": "stream",
     "text": [
      "YouTube >>> 1,000,000,000+\n",
      "All Video Downloader 2018 >>> 1,000,000+\n",
      "Video Downloader >>> 10,000,000+\n",
      "HD Video Player >>> 1,000,000+\n",
      "Iqiyi (for tablet) >>> 1,000,000+\n",
      "Motorola FM Radio >>> 100,000,000+\n",
      "Video Player All Format >>> 10,000,000+\n",
      "Motorola Gallery >>> 100,000,000+\n",
      "Free TV series >>> 100,000+\n",
      "Video Player All Format for Android >>> 500,000+\n",
      "VLC for Android >>> 100,000,000+\n",
      "Code >>> 10,000,000+\n",
      "Vote for >>> 50,000,000+\n",
      "XX HD Video downloader-Free Video Downloader >>> 1,000,000+\n",
      "OBJECTIVE >>> 1,000,000+\n",
      "Music - Mp3 Player >>> 10,000,000+\n",
      "HD Movie Video Player >>> 1,000,000+\n",
      "YouCut - Video Editor & Video Maker, No Watermark >>> 5,000,000+\n",
      "Video Editor,Crop Video,Movie Video,Music,Effects >>> 1,000,000+\n",
      "YouTube Studio >>> 10,000,000+\n",
      "video player for android >>> 10,000,000+\n",
      "Vigo Video >>> 50,000,000+\n",
      "Google Play Movies & TV >>> 1,000,000,000+\n",
      "HTC Service － DLNA >>> 10,000,000+\n",
      "VPlayer >>> 1,000,000+\n",
      "MiniMovie - Free Video and Slideshow Editor >>> 50,000,000+\n",
      "Samsung Video Library >>> 50,000,000+\n",
      "OnePlus Gallery >>> 1,000,000+\n",
      "LIKE – Magic Video Maker & Community >>> 50,000,000+\n",
      "HTC Service—Video Player >>> 5,000,000+\n",
      "Play Tube >>> 1,000,000+\n",
      "Droid Zap by Motorola >>> 5,000,000+\n",
      "video player >>> 1,000,000+\n",
      "G Guide Program Guide (SOFTBANK EMOBILE WILLCOM version) >>> 1,000,000+\n",
      "Video.Guru - Video Maker >>> 1,000,000+\n",
      "HTC Gallery >>> 10,000,000+\n",
      "PowerDirector Video Editor App: 4K, Slow Mo & More >>> 10,000,000+\n",
      "Cartoon Network App >>> 10,000,000+\n",
      "MX Player >>> 500,000,000+\n",
      "Video Status >>> 1,000,000+\n",
      "Video Wallpaper Show >>> 500+\n",
      "SVT Play >>> 1,000,000+\n",
      "BluTV >>> 1,000,000+\n",
      "Tencent Video - Supporting the whole network >>> 1,000,000+\n",
      "Casper Ssinema >>> 10,000+\n",
      "amazer - Global Kpop Video Community >>> 100,000+\n",
      "Omlet Arcade - Stream, Meet, Play >>> 10,000,000+\n",
      "VUE: video editor & camcorder >>> 1,000,000+\n",
      "Magisto Video Editor & Maker >>> 10,000,000+\n",
      "Dubsmash >>> 100,000,000+\n",
      "DU Recorder – Screen Recorder, Video Editor, Live >>> 50,000,000+\n",
      "KineMaster – Pro Video Editor >>> 50,000,000+\n",
      "Mobizen Screen Recorder for SAMSUNG >>> 10,000,000+\n",
      "Mobizen Screen Recorder for LG - Record, Capture >>> 1,000,000+\n",
      "M-Sight Pro >>> 5,000+\n",
      "Sketch 'n' go >>> 100,000+\n",
      "Q-See Plus >>> 5,000+\n",
      "Ustream >>> 10,000,000+\n",
      "VMate >>> 50,000,000+\n",
      "All Video Downloader >>> 10,000,000+\n",
      "VidPlay >>> 1,000,000+\n",
      "HD Video Downloader : 2018 Best video mate >>> 50,000,000+\n",
      "VivaVideo - Video Editor & Photo Movie >>> 100,000,000+\n",
      "VideoShow-Video Editor, Video Maker, Beauty Camera >>> 100,000,000+\n",
      "W Box VMS >>> 10,000+\n",
      "W Box VMS HD >>> 5,000+\n",
      "AB Repeat Player >>> 100,000+\n",
      "A-B repeater >>> 5,000+\n",
      "Ez Screen Recorder (no ad) >>> 100,000+\n",
      "Adobe Premiere Clip >>> 5,000,000+\n",
      "FilmoraGo - Free Video Editor >>> 10,000,000+\n",
      "ActionDirector Video Editor - Edit Videos Fast >>> 5,000,000+\n",
      "AJ Player >>> 100+\n",
      "AK Lodi Films >>> 100+\n",
      "WiFi Baby Monitor - NannyCam >>> 5,000,000+\n",
      "Ringdroid >>> 50,000,000+\n",
      "Multiple Videos at Same Time >>> 1,000,000+\n",
      "AV-IPTV >>> 1,000+\n",
      "HD Video Player (wmv,avi,mp4,flv,av,mpg,mkv)2017 >>> 10,000+\n",
      "HD Video Player - Video & MP3 Player | AV Player | >>> 5,000+\n",
      "EML UPnP-AV Control Point >>> 10,000+\n",
      "AW Screen Recorder No Root >>> 100,000+\n",
      "AX Player -Nougat Video Player >>> 1,000,000+\n",
      "AX Video Player >>> 50,000+\n",
      "Ay >>> 5,000+\n",
      "Ay Sabz Gunbad Waly >>> 1,000+\n",
      "iMediaShare – Photos & Music >>> 10,000,000+\n",
      "AZ Screen Recorder - No Root >>> 10,000,000+\n",
      "Movie Downloader Torrent : Az Torrent >>> 1,000+\n",
      "A-Z Screen Recorder - >>> 500+\n",
      "BC iptv player >>> 1,000+\n",
      "Bc Vod >>> 100+\n",
      "Funny videos for whatsapp >>> 1,000,000+\n",
      "BG video - floating video - background video >>> 5,000+\n",
      "BG MUSIC PLAYER - MUSIC PLAYER >>> 100+\n",
      "bgtime.tv >>> 50,000+\n",
      "YourTube Video Views BG >>> 500+\n",
      "Music for Youtube - Tube Music BG, Red+ >>> 1,000+\n",
      "BGCN TV >>> 100,000+\n",
      "AfreecaTV >>> 10,000,000+\n",
      "BK News Channel >>> 10,000+\n",
      "BR Video Player >>> 5,000+\n",
      "BR Series >>> 50,000+\n",
      "CINE BR >>> 1,000+\n",
      "iPlayIT for YouTube VR Player >>> 1,000,000+\n",
      "BSPlayer FREE >>> 10,000,000+\n",
      "BSPlayer ARMv7 VFP CPU support >>> 1,000,000+\n",
      "BS player remote >>> 10,000+\n",
      "BitTorrent®- Torrent Downloads >>> 10,000,000+\n",
      "Bx-WiFi-GI >>> 100+\n",
      "BZ Langenthaler Tagblatt >>> 1,000+\n",
      "Nero AirBurn >>> 100,000+\n",
      "CI Stream >>> 10+\n",
      "CJ Camcorder >>> 500+\n",
      "CJ VLC HD Remote (+ Stream) >>> 500,000+\n",
      "ACTIVEON CX & CX GOLD >>> 50,000+\n",
      "CX Monthly Tech News >>> 500+\n",
      "DG UPnP Player Free >>> 10,000+\n",
      "DG Screen Recorder >>> 500+\n",
      "DG Video Editor >>> 10,000+\n",
      "Video Downloader - for Instagram Repost App >>> 10,000,000+\n",
      "Quik – Free Video Editor for photos, clips, music >>> 10,000,000+\n",
      "FrostWire: Torrent Downloader & Music Player >>> 10,000,000+\n",
      "Inst Download - Video & Photo >>> 10,000,000+\n",
      "Vuze Torrent Downloader >>> 1,000,000+\n",
      "AndStream - Streaming Download >>> 1,000,000+\n",
      "DR TV >>> 500,000+\n",
      "DS photo >>> 1,000,000+\n",
      "DS video >>> 1,000,000+\n",
      "DU Privacy-hide apps、sms、file >>> 1,000,000+\n",
      "iSmart DV >>> 1,000,000+\n",
      "dv Prompter >>> 50,000+\n",
      "DV Lottery Photo >>> 5,000+\n",
      "MelifeCam-M >>> 10,000+\n",
      "GoPlus Cam >>> 500,000+\n",
      "GoAction >>> 100,000+\n",
      "4K VIDEO PLAYER ULTRA HD >>> 5,000+\n",
      "Downvids Helper - One touch DW >>> 10,000+\n",
      "DZ Popup Video Player >>> 5,000+\n",
      "EC MANAGER >>> 100+\n",
      "EF Sidekick >>> 5,000+\n",
      "ek tuhi >>> 10,000+\n",
      "Naruto Shippuden - Watch Free! >>> 10,000,000+\n",
      "ES Audio Player ( Shortcut ) >>> 100,000+\n",
      "Furrion ES Control >>> 5,000+\n",
      "ES-IPTV >>> 50,000+\n",
      "EZCast – Cast Media to TV >>> 1,000,000+\n",
      "EZ Web Video Cast | Chromecast >>> 100,000+\n",
      "EZ-SEE >>> 10,000+\n",
      "EZ TV Player >>> 10,000+\n",
      "EZ Usenet for Easynews® >>> 10,000+\n",
      "EZ game screen recorder with audio 1080P >>> 1,000+\n",
      "Videos downloader for Facebook:fast fb video saver >>> 5,000+\n",
      "Video Downloader for FB : Video Download with Link >>> 100,000+\n",
      "HD VideoDownlaoder For Fb : XXVideo Downloader >>> 10,000+\n",
      "HD Video Download for Facebook >>> 1,000,000+\n",
      "Art of F J Taylor >>> 10+\n",
      "List iptv FR >>> 100+\n"
     ]
    }
   ],
   "source": [
    "for x in free_android_store:\n",
    "    if x[1] == \"VIDEO_PLAYERS\":\n",
    "        print(x[0], \">>>\", x[5])"
   ]
  },
  {
   "cell_type": "markdown",
   "metadata": {},
   "source": [
    "## Conclusion"
   ]
  },
  {
   "cell_type": "markdown",
   "metadata": {},
   "source": [
    "Although we see that on average Navigation, References and Social Network has a high amount of users which is the result of popular or well known apps from big tech companies that contributes large amount of users, we see that in overall view the App Store leans more to entertainment only apps as shown in the most common genre section. While in the Google Playstore there is a balance between practical and entertainment. \n",
    "\n",
    "We can conclude that we could try to develop gaming apps for the Apple Store, however since there are already plenty in the market we must look into further what type of games that usually user enjoy and would mostlikely catch their interest. As for the Google Playstore we could develop both practical and entertainment apps in one, which means this particular app can be served as both for entertainment and practical. For example learning game apps such as Duolingo."
   ]
  },
  {
   "cell_type": "code",
   "execution_count": 29,
   "metadata": {},
   "outputs": [],
   "source": [
    "# goal: what type of apps are likely to attract more users.\n",
    "\n",
    "# What is the general impression — are most of the apps designed for practical purposes (education, shopping, utilities, productivity, lifestyle) or \n",
    "# more for entertainment (games, photo and video, social networking, sports, music)?\n"
   ]
  }
 ],
 "metadata": {
  "kernelspec": {
   "display_name": "Python 3",
   "language": "python",
   "name": "python3"
  },
  "language_info": {
   "codemirror_mode": {
    "name": "ipython",
    "version": 3
   },
   "file_extension": ".py",
   "mimetype": "text/x-python",
   "name": "python",
   "nbconvert_exporter": "python",
   "pygments_lexer": "ipython3",
   "version": "3.8.10"
  }
 },
 "nbformat": 4,
 "nbformat_minor": 4
}
